{
 "cells": [
  {
   "cell_type": "markdown",
   "metadata": {},
   "source": [
    "# Autoencoder"
   ]
  },
  {
   "cell_type": "code",
   "execution_count": 1,
   "metadata": {},
   "outputs": [
    {
     "name": "stderr",
     "output_type": "stream",
     "text": [
      "Using TensorFlow backend.\n"
     ]
    }
   ],
   "source": [
    "from keras.datasets import mnist\n",
    "import numpy as np\n",
    "import matplotlib.pyplot as plt\n",
    "from keras.layers import Input, Dense\n",
    "from keras.models import Model"
   ]
  },
  {
   "cell_type": "code",
   "execution_count": 2,
   "metadata": {},
   "outputs": [],
   "source": [
    "(x_train, y_train), (x_test, y_test) = mnist.load_data()"
   ]
  },
  {
   "cell_type": "code",
   "execution_count": 3,
   "metadata": {},
   "outputs": [],
   "source": [
    "x_train = x_train.astype('float32') / 255.\n",
    "x_test = x_test.astype('float32') / 255."
   ]
  },
  {
   "cell_type": "code",
   "execution_count": 4,
   "metadata": {},
   "outputs": [],
   "source": [
    "x_train = np.reshape(x_train, (len(x_train), -1))\n",
    "x_test = np.reshape(x_test, (len(x_test), -1))"
   ]
  },
  {
   "cell_type": "code",
   "execution_count": 5,
   "metadata": {},
   "outputs": [],
   "source": [
    "noise_factor = 0.5\n",
    "x_train_noisy = x_train + noise_factor * np.random.normal(loc=0.0, scale=1.0, size=x_train.shape)\n",
    "x_test_noisy = x_test + noise_factor * np.random.normal(loc=0.0, scale=1.0, size=x_test.shape)"
   ]
  },
  {
   "cell_type": "code",
   "execution_count": 6,
   "metadata": {},
   "outputs": [],
   "source": [
    "x_train_noisy = np.clip(x_train_noisy, 0., 1.)\n",
    "x_test_noisy = np.clip(x_test_noisy, 0., 1.)"
   ]
  },
  {
   "cell_type": "code",
   "execution_count": 7,
   "metadata": {},
   "outputs": [
    {
     "name": "stdout",
     "output_type": "stream",
     "text": [
      "Train on 60000 samples, validate on 10000 samples\n",
      "Epoch 1/100\n",
      "60000/60000 [==============================] - 3s 53us/step - loss: 0.2850 - val_loss: 0.2551\n",
      "Epoch 2/100\n",
      "60000/60000 [==============================] - 3s 49us/step - loss: 0.2463 - val_loss: 0.2385\n",
      "Epoch 3/100\n",
      "60000/60000 [==============================] - 3s 48us/step - loss: 0.2299 - val_loss: 0.2210\n",
      "Epoch 4/100\n",
      "60000/60000 [==============================] - 3s 49us/step - loss: 0.2129 - val_loss: 0.2061\n",
      "Epoch 5/100\n",
      "60000/60000 [==============================] - 3s 48us/step - loss: 0.2011 - val_loss: 0.1934\n",
      "Epoch 6/100\n",
      "60000/60000 [==============================] - 3s 48us/step - loss: 0.1898 - val_loss: 0.1851\n",
      "Epoch 7/100\n",
      "60000/60000 [==============================] - 3s 47us/step - loss: 0.1828 - val_loss: 0.1790\n",
      "Epoch 8/100\n",
      "60000/60000 [==============================] - 3s 48us/step - loss: 0.1756 - val_loss: 0.1695\n",
      "Epoch 9/100\n",
      "60000/60000 [==============================] - 3s 50us/step - loss: 0.1699 - val_loss: 0.1678\n",
      "Epoch 10/100\n",
      "60000/60000 [==============================] - 3s 51us/step - loss: 0.1659 - val_loss: 0.1619\n",
      "Epoch 11/100\n",
      "60000/60000 [==============================] - 3s 51us/step - loss: 0.1627 - val_loss: 0.1637\n",
      "Epoch 12/100\n",
      "60000/60000 [==============================] - 3s 51us/step - loss: 0.1599 - val_loss: 0.1578\n",
      "Epoch 13/100\n",
      "60000/60000 [==============================] - 3s 51us/step - loss: 0.1575 - val_loss: 0.1565\n",
      "Epoch 14/100\n",
      "60000/60000 [==============================] - 3s 56us/step - loss: 0.1552 - val_loss: 0.1544\n",
      "Epoch 15/100\n",
      "60000/60000 [==============================] - 3s 52us/step - loss: 0.1533 - val_loss: 0.1519\n",
      "Epoch 16/100\n",
      "60000/60000 [==============================] - 3s 51us/step - loss: 0.1514 - val_loss: 0.1504\n",
      "Epoch 17/100\n",
      "60000/60000 [==============================] - 3s 50us/step - loss: 0.1496 - val_loss: 0.1490\n",
      "Epoch 18/100\n",
      "60000/60000 [==============================] - 3s 51us/step - loss: 0.1480 - val_loss: 0.1459\n",
      "Epoch 19/100\n",
      "60000/60000 [==============================] - 3s 50us/step - loss: 0.1464 - val_loss: 0.1446\n",
      "Epoch 20/100\n",
      "60000/60000 [==============================] - 3s 52us/step - loss: 0.1450 - val_loss: 0.1439\n",
      "Epoch 21/100\n",
      "60000/60000 [==============================] - 3s 52us/step - loss: 0.1436 - val_loss: 0.1417\n",
      "Epoch 22/100\n",
      "60000/60000 [==============================] - 3s 50us/step - loss: 0.1425 - val_loss: 0.1431\n",
      "Epoch 23/100\n",
      "60000/60000 [==============================] - 3s 50us/step - loss: 0.1412 - val_loss: 0.1396\n",
      "Epoch 24/100\n",
      "60000/60000 [==============================] - 3s 52us/step - loss: 0.1400 - val_loss: 0.1389\n",
      "Epoch 25/100\n",
      "60000/60000 [==============================] - 3s 50us/step - loss: 0.1388 - val_loss: 0.1384\n",
      "Epoch 26/100\n",
      "60000/60000 [==============================] - 3s 51us/step - loss: 0.1377 - val_loss: 0.1405\n",
      "Epoch 27/100\n",
      "60000/60000 [==============================] - 3s 51us/step - loss: 0.1368 - val_loss: 0.1371\n",
      "Epoch 28/100\n",
      "60000/60000 [==============================] - 3s 50us/step - loss: 0.1360 - val_loss: 0.1352\n",
      "Epoch 29/100\n",
      "60000/60000 [==============================] - 3s 50us/step - loss: 0.1352 - val_loss: 0.1336\n",
      "Epoch 30/100\n",
      "60000/60000 [==============================] - 3s 51us/step - loss: 0.1346 - val_loss: 0.1354\n",
      "Epoch 31/100\n",
      "60000/60000 [==============================] - 3s 50us/step - loss: 0.1337 - val_loss: 0.1334\n",
      "Epoch 32/100\n",
      "60000/60000 [==============================] - 3s 50us/step - loss: 0.1331 - val_loss: 0.1338\n",
      "Epoch 33/100\n",
      "60000/60000 [==============================] - 3s 50us/step - loss: 0.1326 - val_loss: 0.1316\n",
      "Epoch 34/100\n",
      "60000/60000 [==============================] - 3s 51us/step - loss: 0.1320 - val_loss: 0.1319\n",
      "Epoch 35/100\n",
      "60000/60000 [==============================] - 3s 55us/step - loss: 0.1315 - val_loss: 0.1315\n",
      "Epoch 36/100\n",
      "60000/60000 [==============================] - 3s 54us/step - loss: 0.1310 - val_loss: 0.1319\n",
      "Epoch 37/100\n",
      "60000/60000 [==============================] - 3s 51us/step - loss: 0.1306 - val_loss: 0.1299\n",
      "Epoch 38/100\n",
      "60000/60000 [==============================] - 3s 51us/step - loss: 0.1301 - val_loss: 0.1297\n",
      "Epoch 39/100\n",
      "60000/60000 [==============================] - 3s 53us/step - loss: 0.1296 - val_loss: 0.1291\n",
      "Epoch 40/100\n",
      "60000/60000 [==============================] - 4s 65us/step - loss: 0.1292 - val_loss: 0.1289\n",
      "Epoch 41/100\n",
      "60000/60000 [==============================] - 3s 58us/step - loss: 0.1287 - val_loss: 0.1311\n",
      "Epoch 42/100\n",
      "60000/60000 [==============================] - 4s 64us/step - loss: 0.1283 - val_loss: 0.1277\n",
      "Epoch 43/100\n",
      "60000/60000 [==============================] - 3s 54us/step - loss: 0.1279 - val_loss: 0.1278\n",
      "Epoch 44/100\n",
      "60000/60000 [==============================] - 3s 55us/step - loss: 0.1276 - val_loss: 0.1274\n",
      "Epoch 45/100\n",
      "60000/60000 [==============================] - 3s 58us/step - loss: 0.1272 - val_loss: 0.1274\n",
      "Epoch 46/100\n",
      "60000/60000 [==============================] - 4s 63us/step - loss: 0.1267 - val_loss: 0.1263\n",
      "Epoch 47/100\n",
      "60000/60000 [==============================] - 4s 60us/step - loss: 0.1264 - val_loss: 0.1271\n",
      "Epoch 48/100\n",
      "60000/60000 [==============================] - 6s 94us/step - loss: 0.1260 - val_loss: 0.1282\n",
      "Epoch 49/100\n",
      "60000/60000 [==============================] - 6s 100us/step - loss: 0.1258 - val_loss: 0.1262\n",
      "Epoch 50/100\n",
      "60000/60000 [==============================] - 7s 116us/step - loss: 0.1252 - val_loss: 0.1249\n",
      "Epoch 51/100\n",
      "60000/60000 [==============================] - 6s 99us/step - loss: 0.1249 - val_loss: 0.1258\n",
      "Epoch 52/100\n",
      "60000/60000 [==============================] - 4s 75us/step - loss: 0.1247 - val_loss: 0.1256\n",
      "Epoch 53/100\n",
      "60000/60000 [==============================] - 4s 71us/step - loss: 0.1243 - val_loss: 0.1253\n",
      "Epoch 54/100\n",
      "60000/60000 [==============================] - 4s 68us/step - loss: 0.1240 - val_loss: 0.1254\n",
      "Epoch 55/100\n",
      "60000/60000 [==============================] - 4s 74us/step - loss: 0.1238 - val_loss: 0.1242\n",
      "Epoch 56/100\n",
      "60000/60000 [==============================] - 4s 70us/step - loss: 0.1234 - val_loss: 0.1238\n",
      "Epoch 57/100\n",
      "60000/60000 [==============================] - 4s 62us/step - loss: 0.1231 - val_loss: 0.1242\n",
      "Epoch 58/100\n",
      "60000/60000 [==============================] - 4s 60us/step - loss: 0.1228 - val_loss: 0.1233\n",
      "Epoch 59/100\n",
      "60000/60000 [==============================] - 3s 56us/step - loss: 0.1226 - val_loss: 0.1238\n",
      "Epoch 60/100\n",
      "60000/60000 [==============================] - 3s 56us/step - loss: 0.1223 - val_loss: 0.1236\n",
      "Epoch 61/100\n",
      "60000/60000 [==============================] - 4s 61us/step - loss: 0.1220 - val_loss: 0.1228\n",
      "Epoch 62/100\n",
      "60000/60000 [==============================] - 4s 70us/step - loss: 0.1217 - val_loss: 0.1238\n",
      "Epoch 63/100\n",
      "60000/60000 [==============================] - 5s 76us/step - loss: 0.1215 - val_loss: 0.1223\n",
      "Epoch 64/100\n",
      "60000/60000 [==============================] - 6s 94us/step - loss: 0.1212 - val_loss: 0.1225\n",
      "Epoch 65/100\n",
      "60000/60000 [==============================] - 5s 76us/step - loss: 0.1210 - val_loss: 0.1223\n",
      "Epoch 66/100\n",
      "60000/60000 [==============================] - 4s 70us/step - loss: 0.1208 - val_loss: 0.1219\n",
      "Epoch 67/100\n",
      "60000/60000 [==============================] - 4s 73us/step - loss: 0.1205 - val_loss: 0.1247\n",
      "Epoch 68/100\n",
      "60000/60000 [==============================] - 4s 74us/step - loss: 0.1202 - val_loss: 0.1215\n",
      "Epoch 69/100\n",
      "60000/60000 [==============================] - 4s 59us/step - loss: 0.1201 - val_loss: 0.1223\n",
      "Epoch 70/100\n",
      "60000/60000 [==============================] - 4s 61us/step - loss: 0.1198 - val_loss: 0.1223\n",
      "Epoch 71/100\n",
      "60000/60000 [==============================] - 4s 62us/step - loss: 0.1196 - val_loss: 0.1205\n",
      "Epoch 72/100\n",
      "60000/60000 [==============================] - 4s 69us/step - loss: 0.1193 - val_loss: 0.1211\n",
      "Epoch 73/100\n",
      "60000/60000 [==============================] - 4s 67us/step - loss: 0.1192 - val_loss: 0.1209\n",
      "Epoch 74/100\n",
      "60000/60000 [==============================] - 4s 67us/step - loss: 0.1190 - val_loss: 0.1201\n",
      "Epoch 75/100\n",
      "60000/60000 [==============================] - 4s 65us/step - loss: 0.1188 - val_loss: 0.1228\n",
      "Epoch 76/100\n",
      "60000/60000 [==============================] - 4s 70us/step - loss: 0.1186 - val_loss: 0.1200\n",
      "Epoch 77/100\n"
     ]
    },
    {
     "name": "stdout",
     "output_type": "stream",
     "text": [
      "60000/60000 [==============================] - 4s 65us/step - loss: 0.1184 - val_loss: 0.1208\n",
      "Epoch 78/100\n",
      "60000/60000 [==============================] - 5s 86us/step - loss: 0.1182 - val_loss: 0.1208\n",
      "Epoch 79/100\n",
      "60000/60000 [==============================] - 4s 63us/step - loss: 0.1180 - val_loss: 0.1205\n",
      "Epoch 80/100\n",
      "60000/60000 [==============================] - 4s 65us/step - loss: 0.1179 - val_loss: 0.1188\n",
      "Epoch 81/100\n",
      "60000/60000 [==============================] - 4s 66us/step - loss: 0.1177 - val_loss: 0.1201\n",
      "Epoch 82/100\n",
      "60000/60000 [==============================] - 4s 69us/step - loss: 0.1175 - val_loss: 0.1205\n",
      "Epoch 83/100\n",
      "60000/60000 [==============================] - 5s 90us/step - loss: 0.1175 - val_loss: 0.1197\n",
      "Epoch 84/100\n",
      "60000/60000 [==============================] - 6s 103us/step - loss: 0.1173 - val_loss: 0.1206\n",
      "Epoch 85/100\n",
      "60000/60000 [==============================] - 6s 94us/step - loss: 0.1171 - val_loss: 0.1203\n",
      "Epoch 86/100\n",
      "60000/60000 [==============================] - 5s 91us/step - loss: 0.1170 - val_loss: 0.1205\n",
      "Epoch 87/100\n",
      "60000/60000 [==============================] - 5s 92us/step - loss: 0.1169 - val_loss: 0.1185\n",
      "Epoch 88/100\n",
      "60000/60000 [==============================] - 4s 67us/step - loss: 0.1166 - val_loss: 0.1201\n",
      "Epoch 89/100\n",
      "60000/60000 [==============================] - 4s 67us/step - loss: 0.1165 - val_loss: 0.1194\n",
      "Epoch 90/100\n",
      "60000/60000 [==============================] - 4s 71us/step - loss: 0.1164 - val_loss: 0.1189\n",
      "Epoch 91/100\n",
      "60000/60000 [==============================] - 5s 84us/step - loss: 0.1163 - val_loss: 0.1184\n",
      "Epoch 92/100\n",
      "60000/60000 [==============================] - 4s 70us/step - loss: 0.1161 - val_loss: 0.1205\n",
      "Epoch 93/100\n",
      "60000/60000 [==============================] - 3s 57us/step - loss: 0.1160 - val_loss: 0.1188\n",
      "Epoch 94/100\n",
      "60000/60000 [==============================] - 3s 55us/step - loss: 0.1159 - val_loss: 0.1178\n",
      "Epoch 95/100\n",
      "60000/60000 [==============================] - 3s 55us/step - loss: 0.1157 - val_loss: 0.1190\n",
      "Epoch 96/100\n",
      "60000/60000 [==============================] - 3s 54us/step - loss: 0.1156 - val_loss: 0.1182\n",
      "Epoch 97/100\n",
      "60000/60000 [==============================] - 3s 56us/step - loss: 0.1155 - val_loss: 0.1187\n",
      "Epoch 98/100\n",
      "60000/60000 [==============================] - 3s 55us/step - loss: 0.1153 - val_loss: 0.1175\n",
      "Epoch 99/100\n",
      "60000/60000 [==============================] - 3s 57us/step - loss: 0.1153 - val_loss: 0.1179\n",
      "Epoch 100/100\n",
      "60000/60000 [==============================] - 3s 53us/step - loss: 0.1151 - val_loss: 0.1188\n"
     ]
    },
    {
     "data": {
      "text/plain": [
       "<keras.callbacks.callbacks.History at 0x11b2c12bbc8>"
      ]
     },
     "execution_count": 7,
     "metadata": {},
     "output_type": "execute_result"
    }
   ],
   "source": [
    "input_img = Input(shape=(784,))\n",
    "encoded = Dense(128, activation='relu')(input_img)\n",
    "encoded = Dense(64, activation='relu')(encoded)\n",
    "encoded = Dense(32, activation='relu')(encoded)\n",
    "\n",
    "decoded = Dense(64, activation='relu')(encoded)\n",
    "decoded = Dense(128, activation='relu')(decoded)\n",
    "decoded = Dense(784, activation='sigmoid')(decoded)\n",
    "\n",
    "autoencoder = Model(input_img, decoded)\n",
    "autoencoder.compile(optimizer='adadelta', loss='binary_crossentropy')\n",
    "\n",
    "autoencoder.fit(x_train_noisy, x_train,\n",
    "                epochs=100,\n",
    "                batch_size=128,\n",
    "                shuffle=True,\n",
    "                validation_data=(x_test_noisy, x_test))"
   ]
  },
  {
   "cell_type": "code",
   "execution_count": 8,
   "metadata": {},
   "outputs": [
    {
     "data": {
      "image/png": "[encoded data removed]",
      "text/plain": [
       "<Figure size 1440x144 with 10 Axes>"
      ]
     },
     "metadata": {
      "needs_background": "light"
     },
     "output_type": "display_data"
    },
    {
     "data": {
      "image/png": "[encoded data removed]",
      "text/plain": [
       "<Figure size 1440x144 with 10 Axes>"
      ]
     },
     "metadata": {
      "needs_background": "light"
     },
     "output_type": "display_data"
    },
    {
     "data": {
      "image/png": "[encoded data removed]",
      "text/plain": [
       "<Figure size 1440x144 with 10 Axes>"
      ]
     },
     "metadata": {
      "needs_background": "light"
     },
     "output_type": "display_data"
    }
   ],
   "source": [
    "n = 10\n",
    "\n",
    "plt.figure(figsize=(20, 2))\n",
    "for i in range(n):\n",
    "    ax = plt.subplot(1, n, i + 1)\n",
    "    plt.imshow(x_test[i].reshape(28, 28))\n",
    "    plt.gray()\n",
    "    ax.get_xaxis().set_visible(False)\n",
    "    ax.get_yaxis().set_visible(False)\n",
    "plt.show()\n",
    "\n",
    "plt.figure(figsize=(20, 2))\n",
    "for i in range(n):\n",
    "    ax = plt.subplot(1, n, i + 1)\n",
    "    plt.imshow(x_test_noisy[i].reshape(28, 28))\n",
    "    plt.gray()\n",
    "    ax.get_xaxis().set_visible(False)\n",
    "    ax.get_yaxis().set_visible(False)\n",
    "plt.show()\n",
    "\n",
    "autoencoder_result = autoencoder.predict(x_test_noisy)\n",
    "\n",
    "plt.figure(figsize=(20, 2))\n",
    "for i in range(n):\n",
    "    ax = plt.subplot(1, n, i + 1)\n",
    "    plt.imshow(autoencoder_result[i].reshape(28, 28))\n",
    "    plt.gray()\n",
    "    ax.get_xaxis().set_visible(False)\n",
    "    ax.get_yaxis().set_visible(False)\n",
    "plt.show()"
   ]
  },
  {
   "cell_type": "code",
   "execution_count": 9,
   "metadata": {},
   "outputs": [
    {
     "data": {
      "text/plain": [
       "\"\\nplus = 20\\nfor n in range(0, len(x_test), plus):\\n    plt.figure(figsize=(20, 2))\\n    for i in range(plus):\\n        ax = plt.subplot(1, plus, i + 1)\\n        plt.imshow(x_test[n + i].reshape(28, 28))\\n        plt.gray()\\n        ax.get_xaxis().set_visible(False)\\n        ax.get_yaxis().set_visible(False)\\n    plt.show()\\n\\n    autoencoder_result = autoencoder.predict(x_test)\\n\\n    plt.figure(figsize=(20, 2))\\n    for i in range(plus):\\n        ax = plt.subplot(1, plus, i + 1)\\n        plt.imshow(autoencoder_result[n + i].reshape(28, 28))\\n        plt.gray()\\n        ax.get_xaxis().set_visible(False)\\n        ax.get_yaxis().set_visible(False)\\n    plt.show()\\n    \\n    print('=============================='\\n          '=============================='\\n          '==============================')\\n\""
      ]
     },
     "execution_count": 9,
     "metadata": {},
     "output_type": "execute_result"
    }
   ],
   "source": [
    "'''\n",
    "plus = 20\n",
    "for n in range(0, len(x_test), plus):\n",
    "    plt.figure(figsize=(20, 2))\n",
    "    for i in range(plus):\n",
    "        ax = plt.subplot(1, plus, i + 1)\n",
    "        plt.imshow(x_test[n + i].reshape(28, 28))\n",
    "        plt.gray()\n",
    "        ax.get_xaxis().set_visible(False)\n",
    "        ax.get_yaxis().set_visible(False)\n",
    "    plt.show()\n",
    "\n",
    "    autoencoder_result = autoencoder.predict(x_test)\n",
    "\n",
    "    plt.figure(figsize=(20, 2))\n",
    "    for i in range(plus):\n",
    "        ax = plt.subplot(1, plus, i + 1)\n",
    "        plt.imshow(autoencoder_result[n + i].reshape(28, 28))\n",
    "        plt.gray()\n",
    "        ax.get_xaxis().set_visible(False)\n",
    "        ax.get_yaxis().set_visible(False)\n",
    "    plt.show()\n",
    "    \n",
    "    print('=============================='\n",
    "          '=============================='\n",
    "          '==============================')\n",
    "'''"
   ]
  },
  {
   "cell_type": "markdown",
   "metadata": {},
   "source": [
    "# MLP"
   ]
  },
  {
   "cell_type": "code",
   "execution_count": 10,
   "metadata": {},
   "outputs": [],
   "source": [
    "from sklearn.neural_network import MLPClassifier\n",
    "from sklearn.metrics import confusion_matrix\n",
    "import time\n",
    "import numpy as np"
   ]
  },
  {
   "cell_type": "code",
   "execution_count": 11,
   "metadata": {},
   "outputs": [
    {
     "name": "stdout",
     "output_type": "stream",
     "text": [
      "Iteration 1, loss = 1.99132466\n",
      "Iteration 2, loss = 0.95365180\n",
      "Iteration 3, loss = 0.53645713\n",
      "Iteration 4, loss = 0.42867261\n",
      "Iteration 5, loss = 0.38163231\n",
      "Iteration 6, loss = 0.35289176\n",
      "Iteration 7, loss = 0.33159978\n",
      "Iteration 8, loss = 0.31448582\n",
      "Iteration 9, loss = 0.29971291\n",
      "Iteration 10, loss = 0.28682688\n",
      "Iteration 11, loss = 0.27589484\n",
      "Iteration 12, loss = 0.26558372\n",
      "Iteration 13, loss = 0.25628567\n",
      "Iteration 14, loss = 0.24765820\n",
      "Iteration 15, loss = 0.23998460\n",
      "Iteration 16, loss = 0.23260784\n",
      "Iteration 17, loss = 0.22626592\n",
      "Iteration 18, loss = 0.21969974\n",
      "Iteration 19, loss = 0.21384664\n",
      "Iteration 20, loss = 0.20823146\n",
      "Iteration 21, loss = 0.20297204\n",
      "Iteration 22, loss = 0.19790213\n",
      "Iteration 23, loss = 0.19293529\n",
      "Iteration 24, loss = 0.18851836\n",
      "Iteration 25, loss = 0.18446120\n",
      "Iteration 26, loss = 0.18013572\n",
      "Iteration 27, loss = 0.17594078\n",
      "Iteration 28, loss = 0.17203301\n",
      "Iteration 29, loss = 0.16858323\n",
      "Iteration 30, loss = 0.16503957\n",
      "Iteration 31, loss = 0.16162423\n",
      "Iteration 32, loss = 0.15824597\n",
      "Iteration 33, loss = 0.15528443\n",
      "Iteration 34, loss = 0.15204090\n",
      "Iteration 35, loss = 0.14934355\n",
      "Iteration 36, loss = 0.14606997\n",
      "Iteration 37, loss = 0.14357070\n",
      "Iteration 38, loss = 0.14093997\n",
      "Iteration 39, loss = 0.13836053\n",
      "Iteration 40, loss = 0.13603142\n",
      "Iteration 41, loss = 0.13353321\n",
      "Iteration 42, loss = 0.13145632\n",
      "Iteration 43, loss = 0.12924139\n",
      "Iteration 44, loss = 0.12699514\n",
      "Iteration 45, loss = 0.12498155\n",
      "Iteration 46, loss = 0.12305198\n",
      "Iteration 47, loss = 0.12111177\n",
      "Iteration 48, loss = 0.11908523\n",
      "Iteration 49, loss = 0.11733712\n",
      "Iteration 50, loss = 0.11526906\n",
      "Iteration 51, loss = 0.11370571\n",
      "Iteration 52, loss = 0.11216946\n",
      "Iteration 53, loss = 0.11040458\n",
      "Iteration 54, loss = 0.10888494\n",
      "Iteration 55, loss = 0.10732678\n",
      "Iteration 56, loss = 0.10570572\n",
      "Iteration 57, loss = 0.10409705\n",
      "Iteration 58, loss = 0.10299743\n",
      "Iteration 59, loss = 0.10172703\n",
      "Iteration 60, loss = 0.10009704\n",
      "Iteration 61, loss = 0.09894423\n",
      "Iteration 62, loss = 0.09737050\n",
      "Iteration 63, loss = 0.09592394\n",
      "Iteration 64, loss = 0.09497246\n",
      "Iteration 65, loss = 0.09370822\n",
      "Iteration 66, loss = 0.09238113\n",
      "Iteration 67, loss = 0.09124491\n",
      "Iteration 68, loss = 0.09013145\n",
      "Iteration 69, loss = 0.08925131\n",
      "Iteration 70, loss = 0.08800878\n",
      "Iteration 71, loss = 0.08712635\n",
      "Iteration 72, loss = 0.08566008\n",
      "Iteration 73, loss = 0.08482312\n",
      "Iteration 74, loss = 0.08384520\n",
      "Iteration 75, loss = 0.08272269\n",
      "Iteration 76, loss = 0.08204908\n",
      "Iteration 77, loss = 0.08102284\n",
      "Iteration 78, loss = 0.07989754\n",
      "Iteration 79, loss = 0.07915428\n",
      "Iteration 80, loss = 0.07805809\n",
      "Iteration 81, loss = 0.07756677\n",
      "Iteration 82, loss = 0.07680690\n",
      "Iteration 83, loss = 0.07583202\n",
      "Iteration 84, loss = 0.07499557\n",
      "Iteration 85, loss = 0.07450756\n",
      "Iteration 86, loss = 0.07332054\n",
      "Iteration 87, loss = 0.07243061\n",
      "Iteration 88, loss = 0.07191087\n",
      "Iteration 89, loss = 0.07085421\n",
      "Iteration 90, loss = 0.07041710\n",
      "Iteration 91, loss = 0.06948334\n",
      "Iteration 92, loss = 0.06875129\n",
      "Iteration 93, loss = 0.06813657\n",
      "Iteration 94, loss = 0.06734861\n",
      "Iteration 95, loss = 0.06675229\n",
      "Iteration 96, loss = 0.06616016\n",
      "Iteration 97, loss = 0.06541964\n",
      "Iteration 98, loss = 0.06467138\n",
      "Iteration 99, loss = 0.06416038\n",
      "Iteration 100, loss = 0.06344009\n",
      "Training time: 176.5403561592102\n"
     ]
    },
    {
     "name": "stderr",
     "output_type": "stream",
     "text": [
      "C:\\Users\\KSY\\Anaconda3\\lib\\site-packages\\sklearn\\neural_network\\multilayer_perceptron.py:566: ConvergenceWarning: Stochastic Optimizer: Maximum iterations (100) reached and the optimization hasn't converged yet.\n",
      "  % self.max_iter, ConvergenceWarning)\n"
     ]
    }
   ],
   "source": [
    "start1 = time.time()\n",
    "mlp = MLPClassifier(random_state=12, hidden_layer_sizes=[50, 100, 50], max_iter=100, alpha=0.001, solver='sgd', verbose=10, tol=0.000000001)\n",
    "mlp.fit(x_train, y_train)\n",
    "print(\"Training time: \"+ str(time.time() - start1))"
   ]
  },
  {
   "cell_type": "code",
   "execution_count": 12,
   "metadata": {},
   "outputs": [
    {
     "name": "stdout",
     "output_type": "stream",
     "text": [
      "Training accuracy : 0.982\n",
      "Training accuracy calculate time: 0.749352216720581\n",
      "Testing accuracy : 0.969\n",
      "Testing accuracy calculate time: 0.12266969680786133\n"
     ]
    }
   ],
   "source": [
    "start2 = time.time()\n",
    "print(\"Training accuracy : {:.3f}\".format(mlp.score(x_train, y_train)))\n",
    "print(\"Training accuracy calculate time: \" + str(time.time() - start2))\n",
    "\n",
    "start3 = time.time()\n",
    "print(\"Testing accuracy : {:.3f}\".format(mlp.score(x_test, y_test)))\n",
    "print(\"Testing accuracy calculate time: \" + str(time.time() - start3))"
   ]
  },
  {
   "cell_type": "markdown",
   "metadata": {},
   "source": [
    "# Test code"
   ]
  },
  {
   "cell_type": "code",
   "execution_count": 13,
   "metadata": {
    "scrolled": true
   },
   "outputs": [
    {
     "name": "stdout",
     "output_type": "stream",
     "text": [
      "Original answer: 3\n",
      "After autoencoder answer: 3\n",
      "Real answer: 3\n"
     ]
    },
    {
     "data": {
      "text/plain": [
       "<matplotlib.image.AxesImage at 0x11b3382f208>"
      ]
     },
     "execution_count": 13,
     "metadata": {},
     "output_type": "execute_result"
    },
    {
     "data": {
      "image/png": "[encoded data removed]",
      "text/plain": [
       "<Figure size 360x360 with 2 Axes>"
      ]
     },
     "metadata": {
      "needs_background": "light"
     },
     "output_type": "display_data"
    }
   ],
   "source": [
    "num = 87\n",
    "data = x_test[num]\n",
    "data = np.reshape(data, (1, 784))\n",
    "res = mlp.predict(data)\n",
    "print(\"Original answer: {0}\".format(res[0]))\n",
    "autoencoder_result = autoencoder.predict(data)\n",
    "res = mlp.predict(autoencoder_result)\n",
    "print(\"After autoencoder answer: {0}\".format(res[0]))\n",
    "print(\"Real answer: {0}\".format(y_test[num]))\n",
    "\n",
    "plt.figure(figsize=(5, 5))\n",
    "ax = plt.subplot(1, 2, 1)\n",
    "plt.imshow(data.reshape(28, 28))\n",
    "ax = plt.subplot(1, 2, 2)\n",
    "plt.imshow(autoencoder_result.reshape(28, 28))"
   ]
  },
  {
   "cell_type": "markdown",
   "metadata": {},
   "source": [
    "# Accuracy - all test data"
   ]
  },
  {
   "cell_type": "code",
   "execution_count": 14,
   "metadata": {},
   "outputs": [
    {
     "name": "stdout",
     "output_type": "stream",
     "text": [
      "Original accuracy : 0.969\n",
      "After autoencoder accuracy : 0.942\n"
     ]
    }
   ],
   "source": [
    "autoencoder_result = autoencoder.predict(x_test)\n",
    "print(\"Original accuracy : {:.3f}\".format(mlp.score(x_test, y_test)))\n",
    "print(\"After autoencoder accuracy : {:.3f}\".format(mlp.score(autoencoder_result, y_test)))"
   ]
  },
  {
   "cell_type": "markdown",
   "metadata": {},
   "source": [
    "# Accuracy - ambiguous data small amount"
   ]
  },
  {
   "cell_type": "code",
   "execution_count": 15,
   "metadata": {},
   "outputs": [],
   "source": [
    "num = 47\n",
    "data = x_test[num]\n",
    "data = np.reshape(data, (1, 784))\n",
    "x_ambiguous_data = data"
   ]
  },
  {
   "cell_type": "code",
   "execution_count": 16,
   "metadata": {},
   "outputs": [],
   "source": [
    "for num in (87, 117, 121, 151, 167, 175, 193, 195, 211, 221, 241, 242, 244, 247, 259, 319, 324, 340, 358, 415, 445, 447, 448, 449, 532, 544, 559, 582, 659):\n",
    "    data = x_test[num]\n",
    "    data = np.reshape(data, (1, 784))\n",
    "    x_ambiguous_data = np.append(x_ambiguous_data, data, axis=0)"
   ]
  },
  {
   "cell_type": "code",
   "execution_count": 17,
   "metadata": {},
   "outputs": [],
   "source": [
    "num = 47\n",
    "y_ambiguous_data = y_test[num]\n",
    "for num in (87, 117, 121, 151, 167, 175, 193, 195, 211, 221, 241, 242, 244, 247, 259, 319, 324, 340, 358, 415, 445, 447, 448, 449, 532, 544, 559, 582, 659):\n",
    "        y_ambiguous_data = np.append(y_ambiguous_data, y_test[num])"
   ]
  },
  {
   "cell_type": "code",
   "execution_count": 18,
   "metadata": {},
   "outputs": [
    {
     "name": "stdout",
     "output_type": "stream",
     "text": [
      "Original accuracy : 0.800\n",
      "After autoencoder accuracy : 0.767\n"
     ]
    }
   ],
   "source": [
    "autoencoder_result = autoencoder.predict(x_ambiguous_data)\n",
    "print(\"Original accuracy : {:.3f}\".format(mlp.score(x_ambiguous_data, y_ambiguous_data)))\n",
    "print(\"After autoencoder accuracy : {:.3f}\".format(mlp.score(autoencoder_result, y_ambiguous_data)))"
   ]
  },
  {
   "cell_type": "code",
   "execution_count": null,
   "metadata": {},
   "outputs": [],
   "source": []
  }
 ],
 "metadata": {
  "kernelspec": {
   "display_name": "Python 3",
   "language": "python",
   "name": "python3"
  },
  "language_info": {
   "codemirror_mode": {
    "name": "ipython",
    "version": 3
   },
   "file_extension": ".py",
   "mimetype": "text/x-python",
   "name": "python",
   "nbconvert_exporter": "python",
   "pygments_lexer": "ipython3",
   "version": "3.7.4"
  }
 },
 "nbformat": 4,
 "nbformat_minor": 2
}
